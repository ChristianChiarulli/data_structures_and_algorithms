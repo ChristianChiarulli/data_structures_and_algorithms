{
 "cells": [
  {
   "cell_type": "markdown",
   "metadata": {},
   "source": [
    "# Primitive Operations"
   ]
  },
  {
   "cell_type": "markdown",
   "metadata": {},
   "source": [
    "## What is a Primitive Operation?\n",
    "\n",
    "* A <font color=Red>basic</font> computation performed by an algorithm\n",
    "\n",
    "* <font color=Red>Identifiable</font> in pseudocode\n",
    "\n",
    "* Largely <font color=Red>independent</font> from the programming language being used\n",
    "\n",
    "* <font color=Red>Assumed</font> to have a constant execution time\n",
    "\n",
    "* <font color=Red>Exact</font> definition is not important \n",
    "\n",
    "*Note (1)*: As long as we correctly identify the growth rate of the algorithm, the exact definition of a primitive operation is not important since we can model the behavior of the alogrithm by using asymptotic analysis which we'll discuss how to do in a future notebook. "
   ]
  },
  {
   "cell_type": "markdown",
   "metadata": {},
   "source": [
    "## Examples of Primitive Operations\n",
    "\n",
    "|Primitive Operation |Pseudocode Example     |Equivalent Python Code|\n",
    "|--------------------|-----------------------|----------------------|\n",
    "|<center>Assigning a value to a variable</center>|<center>*x* $\\leftarrow$ *5*</center>|<center>*x = 5*</center>|\n",
    "|<center>Performing an arithmetic operation</center>|<center>$a^3 + b/2$</center>|<center>*a**3 + b/2*</center>|\n",
    "|<center>Comparing two numbers</center>|<center>$i \\geq j$</center>|<center>*i >= j*</center>|\n",
    "|<center>Accessing a single element in a Python list by index</center>|<center>*A[0]*</center>|<center>*A[0]*</center>|\n",
    "|<center>Calling a function/method</center>|<center>*findMax(A)*</center>|<center>*findMax(A)*</center>|\n",
    "|<center>Returning from a function/method</center>|<center>*return y*</center>|<center>*return y*</center>|\n",
    "\n",
    "*Note (2)*: Calling a function/method excludes operations executed within the function/method."
   ]
  },
  {
   "cell_type": "markdown",
   "metadata": {},
   "source": [
    "## Focusing on Worst-Case Input\n",
    "\n",
    "* An algorithm might run faster on some inputs than other inputs even if the inputs being compared are the same size.\n",
    "  * For example, finding the smallest number in a list of size, $n$, that has been sorted in inreasing order vs finding the smallest number in a list of size, $n$, that is sorted randomly. \n",
    "\n",
    "\n",
    "* To factor in this possibilty we can perform an <font color=Red>average-case analysis</font> by taking the average of the running time over all possible inputs of the same size.\n",
    "\n",
    "* Average-case analysis is very useful, but often <font color=Red>difficult to determine</font> since it requires defining a probability distribution over the set of inputs.\n",
    "\n",
    "* Therefore, we'll focus on charaterizing the running time of an algorithm using <font color=Red>worst-case analysis</font>.\n",
    "  * <font color=Red>Easier</font> to calculate since we only need to <font color=Red>identify the worst-case input</font>.\n",
    "  * Also, designing for the worst-case leads to the algorithm <font color=Red>doing well on every input</font>.\n",
    "\n",
    "*Note (3)*: Focusing on the best-case input is usually useless since it requires ideal conditions for the algorithm to perform in an acceptable manner."
   ]
  },
  {
   "cell_type": "markdown",
   "metadata": {},
   "source": [
    "## Counting Primitive Operations\n",
    "\n",
    "* To determine the running time, $t$, of an algorithm as a function of the input size, $n$, we need to perform the following steps: \n",
    "\n",
    "  1. Identify each primitive operation in the pseudocode\n",
    "\n",
    "  2. Count how many times each primitive operation is executed\n",
    "  \n",
    "  3. Calculate the running time by summing the counts of primitive operations\n",
    "\n",
    "*Note (4)*: We're assuming the running times of different primitive operations will be fairly similar, so the calculated running time, $t$, will be proportional to the actual running time of an algorithm."
   ]
  },
  {
   "cell_type": "markdown",
   "metadata": {},
   "source": [
    "## Counting Primitive Operations Examples"
   ]
  },
  {
   "cell_type": "markdown",
   "metadata": {},
   "source": [
    "### Ex. 1) Find the maximum element in a list\n",
    "\n",
    "<font color=SlateGray>**Algorithm** *findMax(A)*<br>\n",
    "&emsp; **Input** list *A* of *n* integers<br>\n",
    "&emsp; **Output** the maximum element of *A*</font>\n",
    "\n",
    "&emsp; <font color=CadetBlue>*currentMax* $\\leftarrow$ *A[0]*</font><br>\n",
    "&emsp; <font color=SteelBlue>**for** *currentValue* $\\leftarrow$ *nextElementInA (starting from the 1st element in A)* **to** *EndOfA* **do**</font><br>\n",
    "&emsp; &emsp; <font color=SteelBlue>**if** *currentValue > currentMax* **then**</font><br>\n",
    "&emsp; &emsp; &emsp; <font color=CadetBlue>*currentMax* $\\leftarrow$ *currentValue*</font><br>\n",
    "&emsp; <font color=MediumPurple>**return** *currentMax*</font>"
   ]
  },
  {
   "cell_type": "markdown",
   "metadata": {},
   "source": [
    "* Line 1, <font color=CadetBlue>*currentMax* $\\leftarrow$ *A[0]*</font>, is $2$ operations since we're accessing a single element in a list by index and assigning a value to a variable.\n",
    "\n",
    "* Line 2, <font color=SteelBlue>**for** *currentValue* $\\leftarrow$ *nextElementInA (starting from the 1st element in A)* **to** *EndOfA* **do**</font>, is $c_1 + c_2n$ operations where $c_1$ represents the constant number of primitive operations associated with the initializing and the terminating of the for loop, and $c_2$ represents the number of primitive operations associated with the maintenance of the iterator which is done $n$ times, so the total amount of maintenance of the iterator is $c_2n$ (see *Note (5)* for why specific values for $c_1$ and $c_2$ are not given).\n",
    "\n",
    "* Line 3, <font color=SteelBlue>**if** *currentValue > currentMax* **then**</font>, is $n$ operations since we're comparing two numbers during each iteration of the loop.\n",
    "\n",
    "* Line 4, <font color=CadetBlue>*currentMax* $\\leftarrow$ *currentValue*</font>, consists of $n$ operations, since we're assuming worst-case input which means *currentMax* will be updated on each iteration of the loop.\n",
    "  \n",
    "* Line 5, <font color=MediumPurple>**return** *currentMax*</font>, consists of $1$ operation since we're only returning a value from a function.\n",
    "\n",
    "Therefore, the running time of the algorithm is:\n",
    "\n",
    "* $$t = 2 + c_1 + c_2n + n + n + 1 = 3 + c_1 + c_2n + 2n$$\n",
    "  \n",
    "*Note (5)*: Explicit values for $c_1$ and $c_2$ are not given because the number of primitive operations being executed in a Python for loop, e.g., *for i in list* is not as obvious as say a C-style for loop, e.g., *for(i = 0; i < 10; i++)* since the implementation details are being abstracted away to allow for easier readability and usability. Python for loops are referred to as collection-based or iterator-based loops and use the concept of iterables and iterators to perform the looping operation as opposed to the index based approach used in C-style loops. Under the hood Python is actually using two built-in functions *iter()* and *next()* to implement the for loop which we can discuss in more detail in a future blog post and video.\n",
    "\n",
    "*Note (6)*: Not knowing the exact values for $c_1$ and $c_2$ is also not entirely necessary because as mentioned earlier we can use asymptotic analysis to model the behavior of our algorithms as long as we correctly identify the growth rate.  \n",
    "\n",
    "*Note (7)*: Even though we'll ultimately be using asymptotic analysis to model our algorithms if you're interested in examining the primitive operations being executed in a Python program in more detail you can use the *dis* module which is the disassembler for Python bytecode. This allows us to examine the set of instructions used by the Python virtual machine. A .pyc file is actually the compliled bytecode. However, for our purposes we don't need to concern ourselves with all of the under the hood details. If anyone is interested though we can also make a future blog post or video discussing the *dis* module in more detail."
   ]
  },
  {
   "cell_type": "markdown",
   "metadata": {},
   "source": [
    "### Ex. 2) Sum all of the elements in a list\n",
    "\n",
    "<font color=SlateGray>**Algorithm** *calculateSum(A)*<br>\n",
    "&emsp; **Input** list *A* of *n* integers<br>\n",
    "&emsp; **Output** sum of all the elements of *A*</font>\n",
    "\n",
    "&emsp; <font color=CadetBlue>*currentSum* $\\leftarrow$ *0*</font><br>\n",
    "&emsp; <font color=SteelBlue>**for** *valueToBeAdded* $\\leftarrow$ *nextElementInA (starting from the 1st element in A)* **to** *EndOfA* **do**</font><br>\n",
    "&emsp; &emsp; <font color=CadetBlue>*currentSum* $\\leftarrow$ *currentSum + valueToBeAdded*</font><br>\n",
    "&emsp; <font color=MediumPurple>**return** *currentSum*</font>"
   ]
  },
  {
   "cell_type": "markdown",
   "metadata": {},
   "source": [
    "* Line 1, <font color=CadetBlue>*currentSum* $\\leftarrow$ *0*</font>, is $1$ operation since we're assigning a value to a variable.\n",
    "\n",
    "* Line 2, <font color=SteelBlue>**for** *valueToBeAdded* $\\leftarrow$ *nextElementInA (starting from the 1st element in A)* **to** *EndOfA* **do**</font>, is once again $c_1 + c_2n$ operations where $c_1$ once again represents the constant number of primitive operations associated with the initializing and the terminating of the for loop, and $c_2$ once again represents the number of primitive operations associated with the maintenance of the iterator which is done $n$ times, so the total amount of maintenance of the iterator is $c_2n$.\n",
    "\n",
    "* Line 3, <font color=CadetBlue>*currentSum* $\\leftarrow$ *currentSum + valueToBeAdded*</font>, is $2n$ operations since we're performing an arithmetic operation and assigning the result to a variable during each iteration of the loop.\n",
    "  \n",
    "* Line 4, <font color=MediumPurple>**return** *currentSum*</font>, consists of $1$ operation since we're only returning a value from a function.\n",
    "\n",
    "Therefore, the running time of the algorithm is:\n",
    "\n",
    "$$t = 1 + c_1 + c_2n + 2n + 1 = 2 + c_1 + c_2n + 2n$$"
   ]
  },
  {
   "cell_type": "markdown",
   "metadata": {},
   "source": [
    "### Ex. 3) Calculate the average of the elements in a list\n",
    "\n",
    "<font color=SlateGray>**Algorithm** *calculateAverage(A)*<br>\n",
    "&emsp; **Input** list *A* of *n* integers<br>\n",
    "&emsp; **Output** average of all the elements of *A*</font>\n",
    "\n",
    "&emsp; <font color=CadetBlue>*currentSum* $\\leftarrow$ *0*</font><br>\n",
    "&emsp; <font color=SteelBlue>**for** *valueToBeAdded* $\\leftarrow$ *nextElementInA (starting from the 1st element in A)* **to** *EndOfA* **do**</font><br>\n",
    "&emsp; &emsp; <font color=CadetBlue>*currentSum* $\\leftarrow$ *currentSum + valueToBeAdded*</font><br>\n",
    "&emsp; <font color=MediumPurple>**return** *currentSum/length of A*</font>"
   ]
  },
  {
   "cell_type": "markdown",
   "metadata": {},
   "source": [
    "* Line 1, <font color=CadetBlue>*currentSum* $\\leftarrow$ *0*</font>, is $1$ operation since we're assigning a value to a variable.\n",
    "\n",
    "* Line 2, <font color=SteelBlue>**for** *valueToBeAdded* $\\leftarrow$ *nextElementInA (starting from the 1st element in A)* **to** *EndOfA* **do**</font>, is once again $c_1 + c_2n$ operations for the same reasons as the previous examples.\n",
    "\n",
    "* Line 3, <font color=CadetBlue>*currentSum* $\\leftarrow$ *currentSum + valueToBeAdded*</font>, is $2n$ operations since we're once again performing an arithmetic operation and assigning the result to a variable during each iteration of the loop.\n",
    "  \n",
    "* Line 4, <font color=MediumPurple>**return** *currentSum/length of A*</font>, consists of $3$ operations since we'll be calling the len() function to get the length of list *A*, performing an arithmetic operation, and returning a value from a function.\n",
    "\n",
    "Therefore, the running time of the algorithm is:\n",
    "\n",
    "$$t = 1 + c_1 + c_2n + 2n + 3 = 4 + c_1 + c_2n + 2n$$"
   ]
  },
  {
   "cell_type": "markdown",
   "metadata": {},
   "source": [
    "### Ex. 4) Find how many elements in a list are even\n",
    "\n",
    "<font color=SlateGray>**Algorithm** *findNumberOfEvenElements(A)*<br>\n",
    "&emsp; **Input** list *A* of *n* integers<br>\n",
    "&emsp; **Output** the number of elements in list *A* that are even</font> \n",
    "\n",
    "&emsp; <font color=CadetBlue>*numberOfEvenElements* $\\leftarrow$ *0*</font><br>\n",
    "&emsp; <font color=SteelBlue>**for** *currentValue* $\\leftarrow$ *nextElementInA (starting from the 1st element in A)* **to** *EndOfA* **do**</font><br>\n",
    "&emsp; &emsp; <font color=SteelBlue>**if** *currentValue mod 2 = 0* **then**</font><br>\n",
    "&emsp; &emsp; &emsp; <font color=CadetBlue>*numberOfEvenElements* $\\leftarrow$ *numberOfEvenElements + 1*</font><br>\n",
    "&emsp; <font color=MediumPurple>**return** *numberOfEvenElements*</font>"
   ]
  },
  {
   "cell_type": "markdown",
   "metadata": {},
   "source": [
    "* Line 1, <font color=CadetBlue>*numberOfEvenElements* $\\leftarrow$ *0*</font>, is $1$ operation since we're assigning a value to a variable.\n",
    "\n",
    "* Line 2, <font color=SteelBlue>**for** *currentValue* $\\leftarrow$ *nextElementInA (starting from the 1st element in A)* **to** *EndOfA* **do**</font>, is once again $c_1 + c_2n$ operations for the same reasons as the previous examples.\n",
    "\n",
    "* Line 3, <font color=SteelBlue>**if** *currentValue mod 2 = 0* **then**</font>, consists of $2n$ operations since we're performing an arithmetic operation and then comparing the result with 0 during each iteration of the loop.\n",
    "\n",
    "* Line 4, <font color=CadetBlue>*numberOfEvenElements* $\\leftarrow$ *numberOfEvenElements + 1*</font>, consists of $2n$ operations since we're assumuing the worst-case input which means each element in *A* is even, so we're performing an arithmetic operation and assigning the result to a variable during each iteration of the loop.\n",
    "\n",
    "* Line 5, <font color=CadetBlue>*return numberOfEvenElements*</font>, consists of $1$ operation since we're only returning a value from a function.\n",
    "\n",
    "Therefore, the running time of the algorithm is:\n",
    "\n",
    "* $$t = 1 + c_1 + c_2n + 2n + 2n + 1 = 2 + c_1 + c_2n + 4n$$"
   ]
  },
  {
   "cell_type": "code",
   "execution_count": null,
   "metadata": {},
   "outputs": [],
   "source": []
  }
 ],
 "metadata": {
  "kernelspec": {
   "display_name": "Python 3",
   "language": "python",
   "name": "python3"
  },
  "language_info": {
   "codemirror_mode": {
    "name": "ipython",
    "version": 3
   },
   "file_extension": ".py",
   "mimetype": "text/x-python",
   "name": "python",
   "nbconvert_exporter": "python",
   "pygments_lexer": "ipython3",
   "version": "3.8.3"
  }
 },
 "nbformat": 4,
 "nbformat_minor": 4
}
