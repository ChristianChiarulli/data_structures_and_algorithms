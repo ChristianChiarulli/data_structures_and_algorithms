{
 "cells": [
  {
   "cell_type": "markdown",
   "metadata": {},
   "source": [
    "# Examples of Algorithm Analysis Using Big-Oh\n",
    "\n",
    "## What are we doing?\n",
    "\n",
    "* Characterizing the running times of simple algorithms using Big-Oh notation\n",
    "\n",
    "* We'll be doing an example for each of the fundamental functions we discussed in the last notebook\n",
    "\n",
    "## Questions\n",
    "* Explain what the code is doing!!!!!!\n",
    "* What is time complexity!!!!!!!!\n",
    "* What is Big-Oh!!!!!!\n",
    "* Why is it the worst case/upper bound!!!!!\n",
    "* Why is this useful!!!!!!\n",
    "* Incorporate our definition of Big-Oh, say you can make a plot, follow the rule of thumb\n",
    "* What is a primitive operation (include using a constant c > 0 to represent each primitive opertaion)????? \n",
    "* Under the hood what is basically going on?????\n",
    "* Explain some of the math behind it?????\n",
    "* Explain the constants relate to hardware!!!!!\n",
    "* Assigning a constant value\n",
    "* Centering table cells and aligning table left\n",
    "* Equation of T(n)\n",
    "* Step-by-step procedure\n",
    "\n",
    "## How to determine the time complexity?\n",
    "\n",
    "### We need to perform the following steps:\n",
    "\n",
    "1. Determine the primitive operations in the code and represent each one using a constant\n",
    "2. Count how many times each primitive operation is executed\n",
    "3. Compute the time complexity by summing the counts of primitive operations\n",
    "4. Perform a Big-Oh analysis on the computed time complexity"
   ]
  },
  {
   "cell_type": "markdown",
   "metadata": {},
   "source": [
    "### Constant Time Example"
   ]
  },
  {
   "cell_type": "code",
   "execution_count": 4,
   "metadata": {},
   "outputs": [],
   "source": [
    "a = 0\n",
    "b = 1\n",
    "\n",
    "total = a + b"
   ]
  },
  {
   "cell_type": "markdown",
   "metadata": {},
   "source": [
    "|Primitive Operations|Constant Representation|Number of Executions|\n",
    "|--------------------|-----------------------|--------------------|\n",
    "|<center>$a = 0$</center>|<center>$c_1$</center>|<center>$1$</center>|\n",
    "|<center>$b = 0$</center>|<center>$c_2$</center>|<center>$1$</center>|\n",
    "|<center>$total = a + b$</center>|<center>$c_3$</center>|<center>$1$</center>|\n",
    "\n",
    "From the table the time complexity is computed as,\n",
    "\n",
    "$T(n) = c_1(1) + c_2(1) + c_3(1) = c_1 + c_2 + c_3$.\n",
    "\n",
    "Now, we can perform a Big-Oh analysis on $T(n)$ by applying the definition of Big-Oh which if you remember from the previous lesson is: \n",
    "\n",
    "Let $f(n)$ and $g(n)$ be functions mapping positive integers to positive real numbers.\n",
    "\n",
    "We say $f(n)$ $\\epsilon$ $O(g(n))$ if there is a real constant $c > 0$ and an integer constant $n_0 \\geq 1$ such that\n",
    "\n",
    "$f(n) \\leq cg(n)$, for all $n \\geq n_0$.\n",
    "\n",
    "So, we need to determine a real constant $c > 0$ and an integer constant $n_0 \\geq 1$ such that $f(n) \\leq cg(n)$ for all $n \\geq n_0$.\n",
    "\n",
    "Here, $f(n) = T(n) = c_1 + c_2 + c_3$.\n",
    "\n",
    "If we let $c = c_1 + c_2 + c_3$, then \n",
    "\n",
    "$c_1 + c_2 + c_3 \\leq cg(n)$ for all $n \\geq n_0$.\n",
    "\n",
    "If we let $g(n) = 1$, then\n",
    "\n",
    "$c_1 + c_2 + c_3 \\leq c(1)$ for all $n \\geq n_0$.\n",
    "\n",
    "If we let $n_0 = 1$, then\n",
    "\n",
    "$c_1 + c_2 + c_3 \\leq c(1)$ for all $n \\geq 1$.\n",
    "\n",
    "Therefore, $T(n) = c_1 + c_2 + c_3$ is $O(1)$."
   ]
  },
  {
   "cell_type": "markdown",
   "metadata": {},
   "source": [
    "### Linear Time Example"
   ]
  },
  {
   "cell_type": "code",
   "execution_count": 18,
   "metadata": {},
   "outputs": [],
   "source": [
    "# Return the sum of the elements in the list S.\n",
    "def summation(S):\n",
    "    n = len(S)\n",
    "    total = 0\n",
    "    for j in range(n): # loop from 0 to n - 1\n",
    "        total += S[j]\n",
    "    return total"
   ]
  },
  {
   "cell_type": "markdown",
   "metadata": {},
   "source": [
    "|Primitive Operations|Constant Representation|Number of Executions|\n",
    "|--------------------|-----------------------|--------------------|\n",
    "|<center>$n = len(S)$</center>|<center>$c_1$</center>|<center>$1$</center>|\n",
    "|<center>$total = 0$</center>|<center>$c_2$</center>|<center>$1$</center>|\n",
    "|<center>$for j in range$</center>|<center>$c_3$</center>|<center>$1$</center>|"
   ]
  },
  {
   "cell_type": "markdown",
   "metadata": {},
   "source": [
    "say you can make a plot, follow the rule of thumb, apply known properties and definitions\n",
    "\n",
    "Why we chose c = c1 + c2 + c3, g(n) = 1, n0 = 1\n",
    "\n",
    "Simply look at the code, determine primitive operations and how many times they are executed, learn to ignore certain operations, looking at the worst case this is a step by step process to help solidfy what you're doing when performing a Big-Oh analysis and why it makes sense\n",
    "\n",
    "4. Big-Oh Analysis:\n",
    "$O()$\n",
    "\n",
    "* Here we are initializing variables $a$ and $b$ to be $0$ and $1$, respectively. Then initializing $total$ to be the sum of $a$ and $b$.\n",
    "\n",
    "* The statement $a = 0$ is a constant time operation since it is not dependent upon the input size of the data, which if you remember we represent as $n$.\n",
    "\n",
    "* Similary, the statements $b = 0$ and $total = a + b$ are also constant time operations since they both don't depend upon the input size $n$.\n",
    "\n",
    "* So, the runnning time of the code block is determined by summing up the contribution of each line of code, so since we have three constant time operations we end up with:\n",
    "\n",
    "$$1) + O(1) + O(1) = O(3)$$\n",
    "\n",
    "An algorithm is said to have a constant time when it is not dependent on the input data (n). No matter the size of the input data, the running time will always be the same. For example:\n",
    "\n",
    "If you think about what's happening inside the computer, we're setting a chunk of memory to some new value. Because we've hard-coded the zero here, it happens in constant time. There's no way to call this function or alter global state that we could change the operation. This is an O(1) operation."
   ]
  },
  {
   "cell_type": "code",
   "execution_count": 1,
   "metadata": {},
   "outputs": [
    {
     "name": "stdout",
     "output_type": "stream",
     "text": [
      "1\n",
      "2\n",
      "3\n",
      "1\n",
      "2\n",
      "3\n"
     ]
    }
   ],
   "source": [
    "iterable = [1, 2, 3]\n",
    "\n",
    "iterator = iter(iterable) # 2 ops\n",
    "while True: # 1 op???\n",
    "    try: # 1 * size of n???\n",
    "        item = next(iterator) # 2 * size of n + 1 for next(iterator) error???\n",
    "    except StopIteration: # 1 op???\n",
    "        break  # 1 op??? # Iterator exhausted: stop the loop\n",
    "    else:\n",
    "        print(item)\n",
    "        \n",
    "# for item in iterable:\n",
    "#     print(item)\n",
    "    \n",
    "iterator = iter(iterable) # 2 ops\n",
    "\n",
    "print(next(iterator))\n",
    "print(next(iterator))\n",
    "print(next(iterator))\n",
    "# print(next(iterator))\n",
    "\n",
    "# Should we just consider for i in A loops to have n operations to simplify it???\n",
    "# Maybe talk about details of how for in loops are implemented in terms of primitive operations in future videos???"
   ]
  },
  {
   "cell_type": "code",
   "execution_count": 2,
   "metadata": {},
   "outputs": [
    {
     "name": "stdout",
     "output_type": "stream",
     "text": [
      "  1           0 LOAD_NAME                0 (mylist)\n",
      "              2 GET_ITER\n",
      "        >>    4 FOR_ITER                 4 (to 10)\n",
      "              6 STORE_NAME               1 (i)\n",
      "\n",
      "  2           8 JUMP_ABSOLUTE            4\n",
      "        >>   10 LOAD_CONST               0 (None)\n",
      "             12 RETURN_VALUE\n"
     ]
    }
   ],
   "source": [
    "from dis import dis\n",
    "\n",
    "# def myfunc(iterable):\n",
    "#     for item in iterable:\n",
    "#         print(item)  \n",
    "       \n",
    "# src = '''\\\n",
    "# iterable = [1, 2, 3]\n",
    "# for item in iterable:\n",
    "#     print(item)\n",
    "# '''  \n",
    "# dis(src)\n",
    "\n",
    "src = '''\\\n",
    "for i in mylist:\n",
    "    pass\n",
    "'''  \n",
    "dis(src)"
   ]
  },
  {
   "cell_type": "code",
   "execution_count": null,
   "metadata": {},
   "outputs": [],
   "source": []
  }
 ],
 "metadata": {
  "kernelspec": {
   "display_name": "Python 3",
   "language": "python",
   "name": "python3"
  },
  "language_info": {
   "codemirror_mode": {
    "name": "ipython",
    "version": 3
   },
   "file_extension": ".py",
   "mimetype": "text/x-python",
   "name": "python",
   "nbconvert_exporter": "python",
   "pygments_lexer": "ipython3",
   "version": "3.8.3"
  }
 },
 "nbformat": 4,
 "nbformat_minor": 4
}
