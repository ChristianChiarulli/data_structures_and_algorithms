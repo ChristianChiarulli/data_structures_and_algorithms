{
 "cells": [
  {
   "cell_type": "markdown",
   "metadata": {},
   "source": [
    "# Introduction to Theoretical Analysis"
   ]
  },
  {
   "cell_type": "markdown",
   "metadata": {},
   "source": [
    "## Benefits of Theoretical Analysis\n",
    "\n",
    "* Can evaluate the speed of an algorithm <font color=Red>independently</font> of the hardware & software environment\n",
    "\n",
    "* Able to use a <font color=Red>pseudocode</font> desricption of an algorithm instead of an implementation\n",
    "\n",
    "* Characterize the <font color=Red>running time</font> as a function of the <font color=Red>input size, $n$</font>\n",
    "\n",
    "* Takes into account <font color=Red>all</font> possible inputs"
   ]
  },
  {
   "cell_type": "markdown",
   "metadata": {},
   "source": [
    "## What is Pseudocode?\n",
    "\n",
    "* <font color=Red>High-level</font> description of an algorithm\n",
    "\n",
    "* <font color=Red>Preferred</font> notation for describing algorithms\n",
    "\n",
    "* Designed for <font color=Red>human</font> understanding\n",
    "\n",
    "* <font color=Red>Suppresses</font> unimportant details\n",
    "\n",
    "* <font color=Red>Hides</font> program design issues"
   ]
  },
  {
   "cell_type": "markdown",
   "metadata": {},
   "source": [
    "## Common Pseudocode Notation\n",
    "\n",
    "* Function/Method Declaration<br>\n",
    "&emsp; <font color=SlateGray>**Algorithm** *method(Argument one, Argument two, ...)*</font><br>\n",
    "&emsp; <font color=SlateGray>**Input**</font> - indicates the input to the algorithm<br>\n",
    "&emsp; <font color=SlateGray>**Output**</font> - indicates the output of the algorithm\n",
    "\n",
    "* Method Call<br>\n",
    "&emsp; <font color=DarkKhaki>*var.method(Argument one, Argument two, ...)*</font>\n",
    "\n",
    "* Return Value<br>\n",
    "&emsp; <font color=MediumPurple>**return** *expression*</font>\n",
    "\n",
    "* Control Flow  \n",
    "  * <font color=SteelBlue>**if** *...* **then** *...* **else** *...*</font> -  indicates a decision the algorithm must make, i.e., if a condition is true then do something if the condition is false then do something else\n",
    "\n",
    "  * <font color=SteelBlue>**while** *...* **do** *...*</font> - indicates a top tested loop, i.e., first evaluate the condition and if the condition evaluates to false, then the looping ends. If the condition evaluates to true, then do one iteration of the loop, then repeat the loop while the condition is true.\n",
    "\n",
    "  * <font color=SteelBlue>**for** *...* **do** *...*</font> - indicates a loop where we already know how many times the loop will be executed\n",
    "\n",
    "  * <font color=SteelBlue>**repeat** *...* **until** *...*</font> - indicates a bottom tested loop, i.e., do one iteration of the loop then evaluate the condition. If the condition evaluates to false, then repeat. If the condition evaluates to true, the looping ends.\n",
    "  \n",
    "* Expressions<br>\n",
    "&emsp; $\\leftarrow$ Assignment<br> \n",
    "&emsp; &emsp; (like $=$ in Python)\n",
    "\n",
    "&emsp; &emsp; $=$ Equality testing<br>\n",
    "&emsp; &emsp; &emsp; (like $==$ in Python)\n",
    "\n",
    "&emsp; &emsp; $n^2$ Exponentiation<br>\n",
    "&emsp; &emsp; &emsp; (like $n**2$ in Python)\n",
    "\n",
    "&emsp; &emsp; $\\geq$ greater than or equal to<br>\n",
    "&emsp; &emsp; &emsp; (like $>=$ in Python)\n",
    "\n",
    "&emsp; &emsp; $\\leq$ less than or equal to<br>\n",
    "&emsp; &emsp; &emsp; (like $<=$ in Python)\n",
    "\n",
    "*Note (1)*: Other mathematical formatting can appear and the corresponding Python operations can be found in the official documentation."
   ]
  },
  {
   "cell_type": "markdown",
   "metadata": {},
   "source": [
    "## Pseudocode Examples\n",
    "\n",
    "### Ex. 1) Find the maximum element in a list\n",
    "\n",
    "<font color=SlateGray>**Algorithm** *findMax(A)*<br>\n",
    "&emsp; **Input** list *A* of *n* integers<br>\n",
    "&emsp; **Output** the maximum element of *A*</font>\n",
    "\n",
    "&emsp; <font color=CadetBlue>*currentMax* $\\leftarrow$ *A[0]*</font><br>\n",
    "&emsp; <font color=SteelBlue>**for** *currentValue* $\\leftarrow$ *nextElementInA (starting from the 1st element in A)* **to** *EndOfA* **do**</font><br>\n",
    "&emsp; &emsp; <font color=SteelBlue>**if** *currentValue > currentMax* **then**</font><br>\n",
    "&emsp; &emsp; &emsp; <font color=CadetBlue>*currentMax* $\\leftarrow$ *currentValue*</font><br>\n",
    "&emsp; <font color=MediumPurple>**return** *currentMax*</font>\n",
    "\n",
    "### Ex. 2) Find the minimum element in a list\n",
    "\n",
    "<font color=SlateGray>**Algorithm** *findMin(A)*<br>\n",
    "&emsp; **Input** list *A* of *n* integers<br>\n",
    "&emsp; **Output** the minimum element of *A*</font>\n",
    "\n",
    "&emsp; <font color=CadetBlue>*currentMin* $\\leftarrow$ *A[0]*</font><br>\n",
    "&emsp; <font color=SteelBlue>**for** *currentValue* $\\leftarrow$ *nextElementInA (starting from the 1st element in A)* **to** *EndOfA* **do**</font><br>\n",
    "&emsp; &emsp; <font color=SteelBlue>**if** *currentValue < currentMin* **then**</font><br>\n",
    "&emsp; &emsp; &emsp; <font color=CadetBlue>*currentMin* $\\leftarrow$ *currentValue*</font><br>\n",
    "&emsp; <font color=MediumPurple>**return** *currentMin*</font>\n",
    "\n",
    "### Ex. 3) Sum all of the elements in a list\n",
    "\n",
    "<font color=SlateGray>**Algorithm** *calculateSum(A)*<br>\n",
    "&emsp; **Input** list *A* of *n* integers<br>\n",
    "&emsp; **Output** sum of all the elements of *A*</font>\n",
    "\n",
    "&emsp; <font color=CadetBlue>*currentSum* $\\leftarrow$ *0*</font><br>\n",
    "&emsp; <font color=SteelBlue>**for** *valueToBeAdded* $\\leftarrow$ *nextElementInA (starting from the 1st element in A)* **to** *EndOfA* **do**</font><br>\n",
    "&emsp; &emsp; <font color=CadetBlue>*currentSum* $\\leftarrow$ *currentSum + valueToBeAdded*</font><br>\n",
    "&emsp; <font color=MediumPurple>**return** *currentSum*</font>\n",
    "\n",
    "### Ex. 4) Multiply all of the elements in a list\n",
    "\n",
    "<font color=SlateGray>**Algorithm** *calculateProduct(A)*<br>\n",
    "&emsp; **Input** list *A* of *n* integers<br>\n",
    "&emsp; **Output** multiplication of all the elements of *A*</font>\n",
    "\n",
    "&emsp; <font color=CadetBlue>*currentProduct* $\\leftarrow$ *1*</font><br>\n",
    "&emsp; <font color=SteelBlue>**for** *multiplier* $\\leftarrow$ *nextElementInA (starting from the 1st element in A)* **to** *EndOfA* **do**</font><br>\n",
    "&emsp; &emsp; <font color=CadetBlue>*currentProduct* $\\leftarrow$ *currentProduct * multiplier*</font><br>\n",
    "&emsp; <font color=MediumPurple>**return** *currentProduct*</font>\n",
    "\n",
    "*Note (2)*: Since the purpose of these examples is to familiarize us with writing pseudocode, the suggested implementations are not optimized."
   ]
  },
  {
   "cell_type": "code",
   "execution_count": null,
   "metadata": {},
   "outputs": [],
   "source": []
  }
 ],
 "metadata": {
  "kernelspec": {
   "display_name": "Python 3",
   "language": "python",
   "name": "python3"
  },
  "language_info": {
   "codemirror_mode": {
    "name": "ipython",
    "version": 3
   },
   "file_extension": ".py",
   "mimetype": "text/x-python",
   "name": "python",
   "nbconvert_exporter": "python",
   "pygments_lexer": "ipython3",
   "version": "3.8.3"
  }
 },
 "nbformat": 4,
 "nbformat_minor": 4
}
